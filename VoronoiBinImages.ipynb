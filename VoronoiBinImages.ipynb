{
 "cells": [
  {
   "cell_type": "code",
   "execution_count": null,
   "metadata": {},
   "outputs": [
    {
     "name": "stderr",
     "output_type": "stream",
     "text": [
      "C:\\Users\\clara\\Desktop\\THESIS\\Voronoi Binning\\GitTest\\voronoi\\VoronoiBinning.py:89: RuntimeWarning: divide by zero encountered in true_divide\n",
      "  var = 1/ivar\n",
      "C:\\Users\\clara\\Desktop\\THESIS\\Voronoi Binning\\GitTest\\voronoi\\VoronoiBinning.py:166: RuntimeWarning: invalid value encountered in true_divide\n",
      "  binned_err = np.sqrt(binned_var)/binned_npix\n",
      "C:\\Users\\clara\\Desktop\\THESIS\\Voronoi Binning\\GitTest\\voronoi\\VoronoiBinning.py:167: RuntimeWarning: invalid value encountered in true_divide\n",
      "  binned_avg = binned_sci / binned_npix\n",
      "C:\\Users\\clara\\Desktop\\THESIS\\Voronoi Binning\\GitTest\\voronoi\\VoronoiBinning.py:169: RuntimeWarning: invalid value encountered in greater\n",
      "  mask_i = (binned_npix > 0) & (binned_avg/binned_err > minimumSN)\n"
     ]
    },
    {
     "name": "stdout",
     "output_type": "stream",
     "text": [
      "Run voronoi_2d_binning, bin_factor=5\n"
     ]
    },
    {
     "name": "stderr",
     "output_type": "stream",
     "text": [
      "C:\\Users\\clara\\Desktop\\THESIS\\Voronoi Binning\\GitTest\\voronoi\\VoronoiBinning.py:166: RuntimeWarning: invalid value encountered in true_divide\n",
      "  binned_err = np.sqrt(binned_var)/binned_npix\n",
      "C:\\Users\\clara\\Desktop\\THESIS\\Voronoi Binning\\GitTest\\voronoi\\VoronoiBinning.py:167: RuntimeWarning: invalid value encountered in true_divide\n",
      "  binned_avg = binned_sci / binned_npix\n",
      "C:\\Users\\clara\\Desktop\\THESIS\\Voronoi Binning\\GitTest\\voronoi\\VoronoiBinning.py:169: RuntimeWarning: invalid value encountered in greater\n",
      "  mask_i = (binned_npix > 0) & (binned_avg/binned_err > minimumSN)\n"
     ]
    },
    {
     "name": "stdout",
     "output_type": "stream",
     "text": [
      "Run voronoi_2d_binning, bin_factor=4\n",
      "Run voronoi_2d_binning, bin_factor=3\n"
     ]
    }
   ],
   "source": [
    "import VoronoiBinning\n",
    "\n",
    "image = 'hlsp_pabeta_hst_wfc3ir-100mas_vv340a_f110w_drz.fits.gz'\n",
    "res = VoronoiBinning.voronoi_binning(image, obj_name='VV340A', quiet=True, plot=True)"
   ]
  },
  {
   "cell_type": "code",
   "execution_count": null,
   "metadata": {},
   "outputs": [],
   "source": [
    "tab, full_bin_seg, mask = res\n",
    "\n",
    "master_table = VoronoiBinning.apply_binning(tab, full_bin_seg, mask, obj_name=\"VV340A\")"
   ]
  }
 ],
 "metadata": {
  "kernelspec": {
   "display_name": "Python 3",
   "language": "python",
   "name": "python3"
  },
  "language_info": {
   "codemirror_mode": {
    "name": "ipython",
    "version": 3
   },
   "file_extension": ".py",
   "mimetype": "text/x-python",
   "name": "python",
   "nbconvert_exporter": "python",
   "pygments_lexer": "ipython3",
   "version": "3.7.3"
  }
 },
 "nbformat": 4,
 "nbformat_minor": 2
}
