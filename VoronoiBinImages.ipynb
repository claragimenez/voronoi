{
 "cells": [
  {
   "cell_type": "code",
   "execution_count": null,
   "metadata": {
    "scrolled": false
   },
   "outputs": [],
   "source": [
    "import VoronoiBinning\n",
    "\n",
    "image = 'hlsp_pabeta_hst_wfc3ir-100mas_vv340a_f110w_drz.fits.gz'\n",
    "res = VoronoiBinning.voronoi_binning(image, obj_name='vv340a', quiet=True, plot=True)"
   ]
  },
  {
   "cell_type": "code",
   "execution_count": null,
   "metadata": {},
   "outputs": [],
   "source": [
    "tab, full_bin_seg, mask = res\n",
    "\n",
    "master_table = VoronoiBinning.apply_binning(tab, full_bin_seg, mask, obj_name=\"vv340a\")"
   ]
  }
 ],
 "metadata": {
  "kernelspec": {
   "display_name": "Python 3",
   "language": "python",
   "name": "python3"
  },
  "language_info": {
   "codemirror_mode": {
    "name": "ipython",
    "version": 3
   },
   "file_extension": ".py",
   "mimetype": "text/x-python",
   "name": "python",
   "nbconvert_exporter": "python",
   "pygments_lexer": "ipython3",
   "version": "3.7.3"
  }
 },
 "nbformat": 4,
 "nbformat_minor": 2
}
