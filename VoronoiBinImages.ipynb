{
 "cells": [
  {
   "cell_type": "code",
   "execution_count": 4,
   "metadata": {
    "scrolled": false
   },
   "outputs": [
    {
     "name": "stderr",
     "output_type": "stream",
     "text": [
      "C:\\Users\\clara\\Desktop\\THESIS\\Voronoi Binning\\GitTest\\voronoi\\VoronoiBinning.py:89: RuntimeWarning: divide by zero encountered in true_divide\n",
      "  var = 1/ivar\n",
      "C:\\Users\\clara\\Desktop\\THESIS\\Voronoi Binning\\GitTest\\voronoi\\VoronoiBinning.py:166: RuntimeWarning: invalid value encountered in true_divide\n",
      "  binned_err = np.sqrt(binned_var)/binned_npix\n",
      "C:\\Users\\clara\\Desktop\\THESIS\\Voronoi Binning\\GitTest\\voronoi\\VoronoiBinning.py:167: RuntimeWarning: invalid value encountered in true_divide\n",
      "  binned_avg = binned_sci / binned_npix\n",
      "C:\\Users\\clara\\Desktop\\THESIS\\Voronoi Binning\\GitTest\\voronoi\\VoronoiBinning.py:169: RuntimeWarning: invalid value encountered in greater\n",
      "  mask_i = (binned_npix > 0) & (binned_avg/binned_err > minimumSN)\n"
     ]
    },
    {
     "name": "stdout",
     "output_type": "stream",
     "text": [
      "Run voronoi_2d_binning, bin_factor=5\n",
      "Run voronoi_2d_binning, bin_factor=4\n",
      "Run voronoi_2d_binning, bin_factor=3\n",
      "Run voronoi_2d_binning, bin_factor=2\n",
      "Run voronoi_2d_binning, bin_factor=1\n",
      "Run voronoi_2d_binning, bin_factor=0\n"
     ]
    },
    {
     "name": "stderr",
     "output_type": "stream",
     "text": [
      "C:\\Users\\clara\\Desktop\\THESIS\\Voronoi Binning\\GitTest\\voronoi\\VoronoiBinning.py:273: RuntimeWarning: invalid value encountered in true_divide\n",
      "  binned_flux = prep.get_seg_iso_flux(sci, full_bin_seg, tab, fill=tab['flux']/tab['area'])\n",
      "C:\\Users\\clara\\Desktop\\THESIS\\Voronoi Binning\\GitTest\\voronoi\\VoronoiBinning.py:274: RuntimeWarning: invalid value encountered in true_divide\n",
      "  binned_err = prep.get_seg_iso_flux(sci, full_bin_seg, tab, fill=tab['err']/tab['area'])\n"
     ]
    },
    {
     "data": {
      "image/png": "[encoded data removed]",
      "text/plain": [
       "<Figure size 864x864 with 1 Axes>"
      ]
     },
     "metadata": {
      "needs_background": "light"
     },
     "output_type": "display_data"
    }
   ],
   "source": [
    "import VoronoiBinning\n",
    "\n",
    "image = 'hlsp_pabeta_hst_wfc3ir-100mas_ngc6786_f110w_drz.fits.gz'\n",
    "res = VoronoiBinning.voronoi_binning(image, obj_name='ngc6786', quiet=True, plot=True)"
   ]
  },
  {
   "cell_type": "code",
   "execution_count": 5,
   "metadata": {
    "scrolled": false
   },
   "outputs": [
    {
     "name": "stdout",
     "output_type": "stream",
     "text": [
      "hlsp_pabeta_hst_acs-50mas_ngc6786_f435w_drz.fits.gz f435w\n"
     ]
    },
    {
     "name": "stderr",
     "output_type": "stream",
     "text": [
      "C:\\Users\\clara\\Desktop\\THESIS\\Voronoi Binning\\GitTest\\voronoi\\VoronoiBinning.py:391: RuntimeWarning: divide by zero encountered in true_divide\n",
      "  var_data = 1/im['WHT'].data\n",
      "C:\\Users\\clara\\Desktop\\THESIS\\Voronoi Binning\\GitTest\\voronoi\\VoronoiBinning.py:439: RuntimeWarning: invalid value encountered in true_divide\n",
      "  image_flux = prep.get_seg_iso_flux(sci_data, seg, tab, fill=bin_flux/bin_area)\n",
      "C:\\Users\\clara\\Desktop\\THESIS\\Voronoi Binning\\GitTest\\voronoi\\VoronoiBinning.py:440: RuntimeWarning: invalid value encountered in true_divide\n",
      "  image_err = prep.get_seg_iso_flux(sci_data, seg, tab, fill=bin_err/bin_area)\n"
     ]
    },
    {
     "name": "stdout",
     "output_type": "stream",
     "text": [
      "hlsp_pabeta_hst_acs-50mas_ngc6786_f814w_drz.fits.gz f814w\n"
     ]
    },
    {
     "name": "stderr",
     "output_type": "stream",
     "text": [
      "C:\\Users\\clara\\Desktop\\THESIS\\Voronoi Binning\\GitTest\\voronoi\\VoronoiBinning.py:391: RuntimeWarning: divide by zero encountered in true_divide\n",
      "  var_data = 1/im['WHT'].data\n",
      "C:\\Users\\clara\\Desktop\\THESIS\\Voronoi Binning\\GitTest\\voronoi\\VoronoiBinning.py:439: RuntimeWarning: invalid value encountered in true_divide\n",
      "  image_flux = prep.get_seg_iso_flux(sci_data, seg, tab, fill=bin_flux/bin_area)\n",
      "C:\\Users\\clara\\Desktop\\THESIS\\Voronoi Binning\\GitTest\\voronoi\\VoronoiBinning.py:440: RuntimeWarning: invalid value encountered in true_divide\n",
      "  image_err = prep.get_seg_iso_flux(sci_data, seg, tab, fill=bin_err/bin_area)\n"
     ]
    },
    {
     "name": "stdout",
     "output_type": "stream",
     "text": [
      "hlsp_pabeta_hst_wfc3ir-100mas_ngc6786_f110w_drz.fits.gz f110w\n"
     ]
    },
    {
     "name": "stderr",
     "output_type": "stream",
     "text": [
      "C:\\Users\\clara\\Desktop\\THESIS\\Voronoi Binning\\GitTest\\voronoi\\VoronoiBinning.py:391: RuntimeWarning: divide by zero encountered in true_divide\n",
      "  var_data = 1/im['WHT'].data\n",
      "C:\\Users\\clara\\Desktop\\THESIS\\Voronoi Binning\\GitTest\\voronoi\\VoronoiBinning.py:439: RuntimeWarning: invalid value encountered in true_divide\n",
      "  image_flux = prep.get_seg_iso_flux(sci_data, seg, tab, fill=bin_flux/bin_area)\n",
      "C:\\Users\\clara\\Desktop\\THESIS\\Voronoi Binning\\GitTest\\voronoi\\VoronoiBinning.py:440: RuntimeWarning: invalid value encountered in true_divide\n",
      "  image_err = prep.get_seg_iso_flux(sci_data, seg, tab, fill=bin_err/bin_area)\n"
     ]
    },
    {
     "name": "stdout",
     "output_type": "stream",
     "text": [
      "hlsp_pabeta_hst_wfc3ir-100mas_ngc6786_f130n_drz.fits.gz f130n\n"
     ]
    },
    {
     "name": "stderr",
     "output_type": "stream",
     "text": [
      "C:\\Users\\clara\\Desktop\\THESIS\\Voronoi Binning\\GitTest\\voronoi\\VoronoiBinning.py:391: RuntimeWarning: divide by zero encountered in true_divide\n",
      "  var_data = 1/im['WHT'].data\n",
      "C:\\Users\\clara\\Desktop\\THESIS\\Voronoi Binning\\GitTest\\voronoi\\VoronoiBinning.py:439: RuntimeWarning: invalid value encountered in true_divide\n",
      "  image_flux = prep.get_seg_iso_flux(sci_data, seg, tab, fill=bin_flux/bin_area)\n",
      "C:\\Users\\clara\\Desktop\\THESIS\\Voronoi Binning\\GitTest\\voronoi\\VoronoiBinning.py:440: RuntimeWarning: invalid value encountered in true_divide\n",
      "  image_err = prep.get_seg_iso_flux(sci_data, seg, tab, fill=bin_err/bin_area)\n"
     ]
    },
    {
     "name": "stdout",
     "output_type": "stream",
     "text": [
      "hlsp_pabeta_hst_wfc3ir-100mas_ngc6786_f132n_drz.fits.gz f132n\n"
     ]
    },
    {
     "name": "stderr",
     "output_type": "stream",
     "text": [
      "C:\\Users\\clara\\Desktop\\THESIS\\Voronoi Binning\\GitTest\\voronoi\\VoronoiBinning.py:391: RuntimeWarning: divide by zero encountered in true_divide\n",
      "  var_data = 1/im['WHT'].data\n",
      "C:\\Users\\clara\\Desktop\\THESIS\\Voronoi Binning\\GitTest\\voronoi\\VoronoiBinning.py:439: RuntimeWarning: invalid value encountered in true_divide\n",
      "  image_flux = prep.get_seg_iso_flux(sci_data, seg, tab, fill=bin_flux/bin_area)\n",
      "C:\\Users\\clara\\Desktop\\THESIS\\Voronoi Binning\\GitTest\\voronoi\\VoronoiBinning.py:440: RuntimeWarning: invalid value encountered in true_divide\n",
      "  image_err = prep.get_seg_iso_flux(sci_data, seg, tab, fill=bin_err/bin_area)\n"
     ]
    },
    {
     "name": "stdout",
     "output_type": "stream",
     "text": [
      "hlsp_pabeta_hst_wfc3ir-100mas_ngc6786_f160w_drz.fits.gz f160w\n"
     ]
    },
    {
     "name": "stderr",
     "output_type": "stream",
     "text": [
      "C:\\Users\\clara\\Desktop\\THESIS\\Voronoi Binning\\GitTest\\voronoi\\VoronoiBinning.py:391: RuntimeWarning: divide by zero encountered in true_divide\n",
      "  var_data = 1/im['WHT'].data\n",
      "C:\\Users\\clara\\Desktop\\THESIS\\Voronoi Binning\\GitTest\\voronoi\\VoronoiBinning.py:439: RuntimeWarning: invalid value encountered in true_divide\n",
      "  image_flux = prep.get_seg_iso_flux(sci_data, seg, tab, fill=bin_flux/bin_area)\n",
      "C:\\Users\\clara\\Desktop\\THESIS\\Voronoi Binning\\GitTest\\voronoi\\VoronoiBinning.py:440: RuntimeWarning: invalid value encountered in true_divide\n",
      "  image_err = prep.get_seg_iso_flux(sci_data, seg, tab, fill=bin_err/bin_area)\n"
     ]
    },
    {
     "name": "stdout",
     "output_type": "stream",
     "text": [
      "hlsp_pabeta_hst_wfc3uvis-50mas_ngc6786_f673n_drz.fits.gz f673n\n"
     ]
    },
    {
     "name": "stderr",
     "output_type": "stream",
     "text": [
      "C:\\Users\\clara\\Desktop\\THESIS\\Voronoi Binning\\GitTest\\voronoi\\VoronoiBinning.py:391: RuntimeWarning: divide by zero encountered in true_divide\n",
      "  var_data = 1/im['WHT'].data\n",
      "C:\\Users\\clara\\Desktop\\THESIS\\Voronoi Binning\\GitTest\\voronoi\\VoronoiBinning.py:439: RuntimeWarning: invalid value encountered in true_divide\n",
      "  image_flux = prep.get_seg_iso_flux(sci_data, seg, tab, fill=bin_flux/bin_area)\n",
      "C:\\Users\\clara\\Desktop\\THESIS\\Voronoi Binning\\GitTest\\voronoi\\VoronoiBinning.py:440: RuntimeWarning: invalid value encountered in true_divide\n",
      "  image_err = prep.get_seg_iso_flux(sci_data, seg, tab, fill=bin_err/bin_area)\n"
     ]
    }
   ],
   "source": [
    "tab, full_bin_seg, mask = res\n",
    "\n",
    "master_table = VoronoiBinning.apply_binning(tab, full_bin_seg, mask, obj_name=\"ngc6786\")"
   ]
  },
  {
   "cell_type": "code",
   "execution_count": null,
   "metadata": {},
   "outputs": [],
   "source": []
  }
 ],
 "metadata": {
  "kernelspec": {
   "display_name": "Python 3",
   "language": "python",
   "name": "python3"
  },
  "language_info": {
   "codemirror_mode": {
    "name": "ipython",
    "version": 3
   },
   "file_extension": ".py",
   "mimetype": "text/x-python",
   "name": "python",
   "nbconvert_exporter": "python",
   "pygments_lexer": "ipython3",
   "version": "3.7.3"
  }
 },
 "nbformat": 4,
 "nbformat_minor": 2
}
